{
  "nbformat": 4,
  "nbformat_minor": 0,
  "metadata": {
    "colab": {
      "name": "Data_querie_Noah-1.ipynb",
      "provenance": [],
      "authorship_tag": "ABX9TyMbDkhylzHEAiekM3vLBmrw",
      "include_colab_link": true
    },
    "kernelspec": {
      "name": "python3",
      "display_name": "Python 3"
    },
    "language_info": {
      "name": "python"
    }
  },
  "cells": [
    {
      "cell_type": "markdown",
      "metadata": {
        "id": "view-in-github",
        "colab_type": "text"
      },
      "source": [
        "<a href=\"https://colab.research.google.com/github/NasaSpaceProgram/Research/blob/main/Data_querie_Noah_1.ipynb\" target=\"_parent\"><img src=\"https://colab.research.google.com/assets/colab-badge.svg\" alt=\"Open In Colab\"/></a>"
      ]
    },
    {
      "cell_type": "code",
      "execution_count": 1,
      "metadata": {
        "id": "5UtyE_G_eJG9"
      },
      "outputs": [],
      "source": [
        "# this will probibly be the one thing different users will have to change based on their google drive setup\n",
        "datapath = \"/content/drive/MyDrive/Missfit/MISSFIT_Collaboration/Radiation_Group/Parsed_Radiation_Data\""
      ]
    },
    {
      "cell_type": "code",
      "source": [
        "All_specimins = []"
      ],
      "metadata": {
        "id": "pULtZVs_oyEu"
      },
      "execution_count": 7,
      "outputs": []
    },
    {
      "cell_type": "code",
      "source": [
        "def Radial_Distance_Function_defalt(t):\n",
        "# t is time time in years returns the distance from the sun in AU\n",
        "  return(1)"
      ],
      "metadata": {
        "id": "XcPQKVYFlIE6"
      },
      "execution_count": 3,
      "outputs": []
    },
    {
      "cell_type": "code",
      "source": [
        "def Radiation_dispersion_function_defalt(r,i):\n",
        "  # r is the spacecraft distance from the sun in AU and i is the intencity at 1 AU\n",
        "  #this function returns the \n",
        "  return(i*(1/r)**2)"
      ],
      "metadata": {
        "id": "v0AFJCzclvKP"
      },
      "execution_count": 4,
      "outputs": []
    },
    {
      "cell_type": "code",
      "source": [
        "def Querie (startDate, endDate, Source = [\"SolarWind,GCR\"],  included_specimins = All_specimins, Radial_Distance_Function = Radial_Distance_Function_defalt, Radiation_dispersion_function = Radiation_dispersion_function_defalt):\n",
        "  if \"SolarWind\" in Source:\n",
        "    pass\n",
        "  if \"GCR\" in Source:\n",
        "    pass"
      ],
      "metadata": {
        "id": "xOcgG7Y5jtbx"
      },
      "execution_count": 9,
      "outputs": []
    },
    {
      "cell_type": "code",
      "source": [
        "def Querie_Deliniated (startDate, endDate, deliniation):"
      ],
      "metadata": {
        "id": "Z9YcP9m5keV6"
      },
      "execution_count": null,
      "outputs": []
    }
  ]
}