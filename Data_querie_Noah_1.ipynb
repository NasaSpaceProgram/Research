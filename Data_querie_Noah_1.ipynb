{
  "nbformat": 4,
  "nbformat_minor": 0,
  "metadata": {
    "colab": {
      "name": "Data_querie_Noah-1.ipynb",
      "provenance": [],
      "authorship_tag": "ABX9TyO0PI28qv95+2oJXYRuY7Dh",
      "include_colab_link": true
    },
    "kernelspec": {
      "name": "python3",
      "display_name": "Python 3"
    },
    "language_info": {
      "name": "python"
    }
  },
  "cells": [
    {
      "cell_type": "markdown",
      "metadata": {
        "id": "view-in-github",
        "colab_type": "text"
      },
      "source": [
        "<a href=\"https://colab.research.google.com/github/NasaSpaceProgram/Research/blob/main/Data_querie_Noah_1.ipynb\" target=\"_parent\"><img src=\"https://colab.research.google.com/assets/colab-badge.svg\" alt=\"Open In Colab\"/></a>"
      ]
    },
    {
      "cell_type": "code",
      "source": [
        "from google.colab import drive\n",
        "import numpy \n",
        "drive.mount('/content/drive')"
      ],
      "metadata": {
        "colab": {
          "base_uri": "https://localhost:8080/"
        },
        "id": "5uLIhzgb6wvW",
        "outputId": "91f8fb66-e9a8-4eca-e2e3-02772e5528d9"
      },
      "execution_count": 4,
      "outputs": [
        {
          "output_type": "stream",
          "name": "stdout",
          "text": [
            "Drive already mounted at /content/drive; to attempt to forcibly remount, call drive.mount(\"/content/drive\", force_remount=True).\n"
          ]
        }
      ]
    },
    {
      "cell_type": "code",
      "execution_count": 3,
      "metadata": {
        "id": "5UtyE_G_eJG9"
      },
      "outputs": [],
      "source": [
        "# this will probibly be the one thing different users will have to change based on their google drive setup\n",
        "datapath = \"/content/drive/MyDrive/Missfit/MISSFIT_Collaboration/Radiation_Group/Parsed_Radiation_Data\"\n"
      ]
    },
    {
      "cell_type": "code",
      "source": [
        "All_specimins = [\"H\",\"He\"]\n",
        "\n",
        "SOHO_Channel_to_average_energy = {\"P4\":6.05, \"P8\": 16.15, \"P25\":32.95, \"P41\":46.95}  # arithmetic mean energy of each of the channels in MeV\n",
        "Masses = {\"H\":1, \"He\":4} # masses in AMU\n"
      ],
      "metadata": {
        "id": "pULtZVs_oyEu"
      },
      "execution_count": 6,
      "outputs": []
    },
    {
      "cell_type": "code",
      "source": [
        "class species():\n",
        "  def init(self,energy,mass,aveIntencity,minIntencity,maxIntencity):\n",
        "    self.energy = energy\n",
        "    self.mass = mass\n",
        "    self.aveInt = aveIntencity\n",
        "    self.minInt = minIntencity\n",
        "    self.macInt = maxIntencity\n",
        "\n",
        "  def GetAveInt(self):\n",
        "    return(self.aveInt)\n",
        "  def GetMinInt(self):\n",
        "    return(self.minInt)\n",
        "  def GetMaxInt(self):\n",
        "    return(self.amaxInt)\n"
      ],
      "metadata": {
        "id": "SkO5rmAup8f0"
      },
      "execution_count": 5,
      "outputs": []
    },
    {
      "cell_type": "code",
      "source": [
        "\n",
        "\n",
        "def Get_SOHO_Data(startDate,endDate):\n",
        "#SOHO H and He 10 Min\n",
        "  #3 lines of header\n",
        "  #H intencities = P:4,8,25,41 at columns 10,11,12,13\n",
        "  #He intencities = P:4,8,25,41 at columns 22,23,24,25\n",
        "  data = Get_Data(datapath ++ \"/SOHO/10min_H_He.csv\",  3,[10,11,12,13,14,22,23,24,25],  startDate,endDate)\n",
        "  SCtE = SOHO_Channel_to_average_energy \n",
        "\n",
        "  keys = [\"P4\",\"P8\",\"P25\",\"P41\",\"H4\",\"H8\",\"H25\",\"H41\"]\n",
        "  oupt = []\n",
        "  for i in range(4):\n",
        "    oupt.append(species(SCtE[keys[i]],Masses[\"H\"], data[i][\"ave\"], data[i][\"min\"])) \n",
        "  for i in range(5,8):\n",
        "    oupt.append(species(SCtE[keys[i]],Masses[\"He\"], data[i][\"ave\"], data[i][\"min\"]))\n",
        "  return (oupt)\n",
        "# retunns list of species \"P4\",\"P8\",\"P25\",\"P41\",\"H4\",\"H8\",\"H25\",\"H41\"\n",
        "\n"
      ],
      "metadata": {
        "id": "WsONPCR3oN42"
      },
      "execution_count": null,
      "outputs": []
    },
    {
      "cell_type": "code",
      "source": [
        "\n",
        "\n",
        "def Get_Data(filename,  header, columns,startDate,endDate):\n",
        "  #scans data from selected time, takes all of the columns that where given and gives a maximum, a minimum, and an average\n",
        "  # call the file into \"wrapper\" variable f\n",
        "    f = open (filename,\"r\")\n",
        "\n",
        "    #Parse the header\n",
        "    for ln in range(header):\n",
        "        line = f.readline()\n",
        "    #make an array to hold data for each of the columns\n",
        "    colmArr = []\n",
        "    for column in columns:\n",
        "      colmArr.append([])\n",
        "\n",
        "\n",
        "\n",
        "\n",
        "    # Parse the data\n",
        "    for line in f:\n",
        "        lineArr = line.slplit(\",\")\n",
        "        if float(lineArr[0]) > endDate:\n",
        "          break\n",
        "        elif float(lineArr[0]) > startDate:\n",
        "          for i in len(columns):\n",
        "            colmArr[i].append(float(lineArr[columns[i]]))\n",
        "    # close our file so it is not taking up memory\n",
        "    f.close()\n",
        "\n",
        "    oupt = []\n",
        "    for colm in colmArr:\n",
        "      ave = colm.array\n",
        "      min = colm.minimum\n",
        "      max = colm.maximum\n",
        "      op = {\"ave\":ave, \"min\":min, \"max\":max}\n",
        "      oupt.append(op)\n",
        "    return(oupt)\n",
        "\n",
        "\n"
      ],
      "metadata": {
        "id": "Gz8facc-6wo7"
      },
      "execution_count": null,
      "outputs": []
    },
    {
      "cell_type": "code",
      "source": [
        "def Print_Partical_info(particle,mass):\n",
        "  pass"
      ],
      "metadata": {
        "id": "egMi_DUP6wbj"
      },
      "execution_count": null,
      "outputs": []
    },
    {
      "cell_type": "code",
      "source": [
        "def Radial_Distance_Function_defalt(t):\n",
        "# t is time time in years returns the distance from the sun in AU\n",
        "  return(1)\n",
        "def Radiation_dispersion_function_defalt(r,i):\n",
        "  # r is the spacecraft distance from the sun in AU and i is the intencity at 1 AU\n",
        "  #this function returns the \n",
        "  return(i*(1/r)**2)"
      ],
      "metadata": {
        "id": "XcPQKVYFlIE6"
      },
      "execution_count": null,
      "outputs": []
    },
    {
      "cell_type": "code",
      "source": [
        ""
      ],
      "metadata": {
        "id": "v0AFJCzclvKP"
      },
      "execution_count": null,
      "outputs": []
    },
    {
      "cell_type": "code",
      "source": [
        "def Querie (startDate, endDate, Source = [\"SolarWind,GCR\"],  included_specimins = All_specimins, Radial_Distance_Function = Radial_Distance_Function_defalt, Radiation_dispersion_function = Radiation_dispersion_function_defalt):\n",
        "  if \"SolarWind\" in Source:\n",
        "    pass\n",
        "  if \"GCR\" in Source:\n",
        "    pass\n",
        "\n",
        "def Querie_Deliniated (startDate, endDate, deliniation):\n",
        "  pass"
      ],
      "metadata": {
        "id": "xOcgG7Y5jtbx"
      },
      "execution_count": null,
      "outputs": []
    },
    {
      "cell_type": "code",
      "source": [
        ""
      ],
      "metadata": {
        "id": "Z9YcP9m5keV6"
      },
      "execution_count": null,
      "outputs": []
    }
  ]
}