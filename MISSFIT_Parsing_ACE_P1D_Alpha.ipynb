{
  "nbformat": 4,
  "nbformat_minor": 0,
  "metadata": {
    "colab": {
      "name": "Untitled3.ipynb",
      "provenance": [],
      "authorship_tag": "ABX9TyMYgsi+KrYYyPFpMrC8InIa",
      "include_colab_link": true
    },
    "kernelspec": {
      "name": "python3",
      "display_name": "Python 3"
    },
    "language_info": {
      "name": "python"
    }
  },
  "cells": [
    {
      "cell_type": "markdown",
      "metadata": {
        "id": "view-in-github",
        "colab_type": "text"
      },
      "source": [
        "<a href=\"https://colab.research.google.com/github/NasaSpaceProgram/Research/blob/main/MISSFIT_Parsing_ACE_P1D_Alpha.ipynb\" target=\"_parent\"><img src=\"https://colab.research.google.com/assets/colab-badge.svg\" alt=\"Open In Colab\"/></a>"
      ]
    },
    {
      "cell_type": "code",
      "metadata": {
        "id": "Ba2vQZIxh3eP"
      },
      "source": [
        "from google.colab import drive"
      ],
      "execution_count": 1,
      "outputs": []
    },
    {
      "cell_type": "code",
      "metadata": {
        "id": "3u8mKXPfSuEZ"
      },
      "source": [
        "def ParseHeader1(line,ouptf):\n",
        "    ln = line.split(',')\n",
        "    ln.insert(0,\"Total Years\")\n",
        "    ouptf.write(','.join(ln))\n",
        "def ParseHeader(line,ouptf):\n",
        "    ouptf.write(line)\n",
        "    \n",
        "\n",
        "\n",
        "\n",
        "def ParseLine(line,ouptf):\n",
        "    \n",
        "    # Split the line into its columns\n",
        "    # note: the split here is assuming that we can split with spaces if not you will need to use somthing like line.split(\",\")\n",
        "    ln = line.split(',')\n",
        "    # Careful with how this is being split\n",
        "\n",
        "    #split down the time catagory further and use it to get the years\n",
        "    #year month day doy hour minute\n",
        "    #years = float(times[0]) + ((float(times[1]) + (float(times[4]) + (float(times[5])/60))/24)/365.25)\n",
        "    years = float(ln[0]) + (float(ln[1])/365.25)\n",
        "    ln.insert(0,str(years))\n",
        "    ouptf.write(','.join(ln))\n",
        "    \n",
        "\n",
        "\n",
        "\n",
        "def ParseToFile(filename, ouptFileName, header = 0):\n",
        "    \"\"\"Parses a data file into a list of dictionaries\n",
        "        file name -- string\n",
        "        header -- int -- number of lines of the header\n",
        "        Note this assumes that all header lines are parced the same way and all data lines are parced the same way\"\"\"\n",
        "    # call the file into \"wrapper\" variable f\n",
        "    f = open (filename,\"r\")\n",
        "    #ouptf = open(ouptFileName, \"w\") #for if we need to open a file and erase its contence\n",
        "    ouptf = open(ouptFileName, \"a\") #for if we need to open a file without erasing its contence\n",
        "\n",
        "    line = f.readline()\n",
        "    ParseHeader(line, ouptf)\n",
        "    line = f.readline()\n",
        "    ParseHeader1(line,ouptf)\n",
        "\n",
        "    # Parse the data\n",
        "    for line in f:\n",
        "        ParseLine(line, ouptf)\n",
        "        \n",
        "    # close our file so it is not taking up memory\n",
        "    f.close()\n",
        "\n",
        "\n",
        "def ParseToFile_WH(filename, ouptFileName, header = 0):\n",
        "    \"\"\"Parses a data file into a list of dictionaries\n",
        "        file name -- string\n",
        "        header -- int -- number of lines of the header\n",
        "        Note this assumes that all header lines are parced the same way and all data lines are parced the same way\"\"\"\n",
        "    # call the file into \"wrapper\" variable f\n",
        "    f = open (filename,\"r\")\n",
        "    #ouptf = open(ouptFileName, \"w\") #for if we need to open a file and erase its contence\n",
        "    ouptf = open(ouptFileName, \"a\") #for if we need to open a file without erasing its contence\n",
        "\n",
        "    #Parse the header\n",
        "    for ln in range(header):\n",
        "        line = f.readline()\n",
        "\n",
        "    # Parse the data\n",
        "    for line in f:\n",
        "        ParseLine(line, ouptf)\n",
        "        \n",
        "    # close our file so it is not taking up memory\n",
        "    f.close()"
      ],
      "execution_count": 21,
      "outputs": []
    },
    {
      "cell_type": "code",
      "metadata": {
        "id": "1bMJ07M6XS7i"
      },
      "source": [
        "def Mn():\n",
        "    ParseToFile('/content/drive/MyDrive/Missfit/MISSFIT_Collaboration/Radiation_Group/Solar_Wind_Composition_and_Energy/NASA_Data/ACE/P1D/Alpha_Particles_Z_Less_Than_1/Spacecraft_Frame/Spin_Averaged/epam_mfsa_pg095_1997_1d.csv/epam_mfsa_pg095_1997_1d.csv', '/content/drive/MyDrive/Missfit/MISSFIT_Collaboration/Radiation_Group/Solar_Wind_Composition_and_Energy/NASA_Data/ACE/P1D/Alpha_Particles_Z_Less_Than_1/Spacecraft_Frame/Spin_Averaged/tst.txt',3)\n",
        "\n",
        "#'/content/drive/MyDrive/Missfit/MISSFIT_Collaboration/Radiation_Group/Solar_Wind_Composition_and_Energy/NASA_Data/ACE/P1D/Alpha_Particles_Z_Less_Than_1/Spacecraft_Frame/Spin_Averaged/'\n",
        "def Main(inptfs, ouptf, header = 0):\n",
        "    \"\"\"Takes in a list of input files and parses the data into an input file\"\"\"\n",
        "    ParseToFile(inptfs[0], ouptf, header)\n",
        "    for i in range(len(inptfs)-1):\n",
        "        ParseToFile_WH(inptfs[i+1], ouptf, header)"
      ],
      "execution_count": 5,
      "outputs": []
    },
    {
      "cell_type": "code",
      "metadata": {
        "colab": {
          "base_uri": "https://localhost:8080/"
        },
        "id": "k9UALsQAXk-h",
        "outputId": "1272b954-d9ce-4cac-e572-d4b5f3cec4c9"
      },
      "source": [
        "drive.mount('/content/drive') #/MyDrive/Research/datasets\n",
        "\n",
        "\n",
        "\n"
      ],
      "execution_count": 7,
      "outputs": [
        {
          "output_type": "stream",
          "name": "stdout",
          "text": [
            "Drive already mounted at /content/drive; to attempt to forcibly remount, call drive.mount(\"/content/drive\", force_remount=True).\n"
          ]
        }
      ]
    },
    {
      "cell_type": "code",
      "metadata": {
        "id": "xC6tXkddX204"
      },
      "source": [
        "lst = []\n",
        "for i in range(1997,2013):\n",
        "  lst.append(\"/content/drive/MyDrive/Missfit/MISSFIT_Collaboration/Radiation_Group/Solar_Wind_Composition_and_Energy/NASA_Data/ACE/P1D/Alpha_Particles_Z_Less_Than_1/Spacecraft_Frame/Spin_Averaged/epam_mfsa_pg095_\" + str(i) +  \"_1d.csv/epam_mfsa_pg095_\" + str(i) + \"_1d.csv\")\n",
        "\n",
        "lst.append(\"/content/drive/MyDrive/Missfit/MISSFIT_Collaboration/Radiation_Group/Solar_Wind_Composition_and_Energy/NASA_Data/ACE/P1D/Alpha_Particles_Z_Less_Than_1/Spacecraft_Frame/Spin_Averaged/epam_mfsa_pg095_2015_1d.csv/epam_mfsa_pg095_2015_1d.csv\") \n",
        "\n",
        "\n",
        "\n",
        "\n",
        "\n",
        "Main(lst,'/content/drive/MyDrive/Missfit/MISSFIT_Collaboration/Radiation_Group/Solar_Wind_Composition_and_Energy/NASA_Data/ACE/P1D/Alpha_Particles_Z_Less_Than_1/Spacecraft_Frame/Spin_Averaged/Parced_ACE_P1D_AlphaParticles_SpapacecraftFrame_SpinAve.csv',2)\n"
      ],
      "execution_count": 22,
      "outputs": []
    }
  ]
}