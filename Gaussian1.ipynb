{
  "nbformat": 4,
  "nbformat_minor": 0,
  "metadata": {
    "colab": {
      "name": "Untitled0.ipynb",
      "provenance": [],
      "authorship_tag": "ABX9TyPDnSVTTH/QBYxVc7lPbu2J",
      "include_colab_link": true
    },
    "kernelspec": {
      "name": "python3",
      "display_name": "Python 3"
    },
    "language_info": {
      "name": "python"
    }
  },
  "cells": [
    {
      "cell_type": "markdown",
      "metadata": {
        "id": "view-in-github",
        "colab_type": "text"
      },
      "source": [
        "<a href=\"https://colab.research.google.com/github/NasaSpaceProgram/Research/blob/main/Gaussian1.ipynb\" target=\"_parent\"><img src=\"https://colab.research.google.com/assets/colab-badge.svg\" alt=\"Open In Colab\"/></a>"
      ]
    },
    {
      "cell_type": "code",
      "metadata": {
        "colab": {
          "base_uri": "https://localhost:8080/",
          "height": 269
        },
        "id": "9M4aVoRRaJwY",
        "outputId": "42c18a00-3c9d-4715-8006-1acc4ac97c21"
      },
      "source": [
        "import matplotlib.pyplot as plt\n",
        "import numpy as np\n",
        "from math import *\n",
        "\n",
        "# 100 linearly spaced numbers\n",
        "x = np.linspace(-490,510,10000)\n",
        "\n",
        "e = 2.718281828459045\n",
        "a = 1\n",
        "b = 500\n",
        "c = 1\n",
        "\n",
        "y = a*e**(-((x-b)**2 / (2 * c**2 )))\n",
        "\n",
        "\n",
        "# setting the axes at the centre\n",
        "fig = plt.figure()\n",
        "ax = fig.add_subplot(1, 1, 1)\n",
        "ax.spines['left'].set_position('center')\n",
        "ax.spines['bottom'].set_position('zero')\n",
        "ax.spines['right'].set_color('none')\n",
        "ax.spines['top'].set_color('none')\n",
        "ax.xaxis.set_ticks_position('bottom')\n",
        "ax.yaxis.set_ticks_position('left')\n",
        "\n",
        "plt.axis([490, 510, 0, 1])\n",
        "# plot the function\n",
        "plt.plot(x,y, 'r')\n",
        "\n",
        "# show the plot\n",
        "plt.show()"
      ],
      "execution_count": 26,
      "outputs": [
        {
          "output_type": "display_data",
          "data": {
            "image/png": "[encoded data removed]",
            "text/plain": [
              "<Figure size 432x288 with 1 Axes>"
            ]
          },
          "metadata": {
            "needs_background": "light"
          }
        }
      ]
    },
    {
      "cell_type": "code",
      "metadata": {
        "id": "fXwfKwxXvvao"
      },
      "source": [
        "def plotGaussian(gaussian):\n",
        "\n",
        "    # 100 linearly spaced numbers\n",
        "    \n",
        "\n",
        "    e = 2.718281828459045\n",
        "    Ampatude = gaussian.getPeakHeight()\n",
        "    Center = gaussian.getCentralWL()\n",
        "    Sigma = gaussian.getFWHM()/(2*sqrt(2*log(2)))\n",
        "\n",
        "\n",
        "    x = np.linspace(Center - (Sigma * 5),Center + (Sigma * 5),100)\n",
        "\n",
        "\n",
        "    y = Ampatude*e**(-((x-Center)**2 / (2 * Sigma**2 )))\n",
        "\n",
        "\n",
        "    # setting the axes at the centre\n",
        "    fig = plt.figure()\n",
        "    ax = fig.add_subplot(1, 1, 1)\n",
        "    ax.spines['left'].set_position('center')\n",
        "    ax.spines['bottom'].set_position('zero')\n",
        "    ax.spines['right'].set_color('none')\n",
        "    ax.spines['top'].set_color('none')\n",
        "    ax.xaxis.set_ticks_position('bottom')\n",
        "    ax.yaxis.set_ticks_position('left')\n",
        "\n",
        "\n",
        "    plt.axis([Center - (Sigma * 5),Center + (Sigma * 5), 0, Ampatude])\n",
        "    \n",
        "    # plot the function\n",
        "    plt.plot(x,y, 'r')\n",
        "\n",
        "    # show the plot\n",
        "    plt.show()\n",
        "    \n",
        "class Gaussian():\n",
        "  def __init__(self,centralWL,flux,PeakHeight,FWHM) -> None:\n",
        "      self.PeakHeight = PeakHeight\n",
        "      self.CentralWL = centralWL\n",
        "      self.FWHM = FWHM\n",
        "      self.Flux = flux\n",
        "\n",
        "  def getPeakHeight(self):\n",
        "      return(self.PeakHeight)\n",
        "  def getCentralWL(self):\n",
        "      return(self.CentralWL)\n",
        "  def getFWHM(self):\n",
        "      return(self.FWHM)\n",
        "  def getFWHM(self):\n",
        "      return(self.FWHM)"
      ],
      "execution_count": 33,
      "outputs": []
    },
    {
      "cell_type": "code",
      "metadata": {
        "id": "JO7jhyWUv62V",
        "outputId": "9b17e5ba-3818-47dc-e190-40033708dc44",
        "colab": {
          "base_uri": "https://localhost:8080/",
          "height": 269
        }
      },
      "source": [
        "gaus = Gaussian(5008.3, 100, 100,50)\n",
        "plotGaussian(gaus)"
      ],
      "execution_count": 34,
      "outputs": [
        {
          "output_type": "display_data",
          "data": {
            "image/png": "[encoded data removed]",
            "text/plain": [
              "<Figure size 432x288 with 1 Axes>"
            ]
          },
          "metadata": {
            "needs_background": "light"
          }
        }
      ]
    }
  ]
}