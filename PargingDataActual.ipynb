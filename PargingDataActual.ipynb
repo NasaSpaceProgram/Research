{
  "nbformat": 4,
  "nbformat_minor": 0,
  "metadata": {
    "colab": {
      "name": "Untitled1.ipynb",
      "provenance": [],
      "authorship_tag": "ABX9TyMnsF1JSrvfhJI6b75/Sq9r",
      "include_colab_link": true
    },
    "kernelspec": {
      "name": "python3",
      "display_name": "Python 3"
    },
    "language_info": {
      "name": "python"
    }
  },
  "cells": [
    {
      "cell_type": "markdown",
      "metadata": {
        "id": "view-in-github",
        "colab_type": "text"
      },
      "source": [
        "<a href=\"https://colab.research.google.com/github/NasaSpaceProgram/Research/blob/main/PargingDataActual.ipynb\" target=\"_parent\"><img src=\"https://colab.research.google.com/assets/colab-badge.svg\" alt=\"Open In Colab\"/></a>"
      ]
    },
    {
      "cell_type": "code",
      "metadata": {
        "id": "VH9Tzfd-l97n"
      },
      "source": [
        "\n",
        "#line             I            %11d  \"\" line \n",
        "#nline            I            %11d  \"\" \n",
        "#ngauss           I            %11d  \"\" number of gaussians \n",
        "# 8 Gaussians - for each gaussian\n",
        "#cent            R          %15.7g  \"\" center wave lengh\n",
        "#flux            R          %15.7g  \"\" total intigral under the gaussian\n",
        "#core            R          %15.7g  \"\" peek hight - Ampatude\n",
        "#fwhm            R          %15.7g  \"\" full width at half max\n",
        "\n",
        "\n",
        "# plot velocity vs line number\n",
        "# C (lambda - 5008.3)/5008.3 = velocity "
      ],
      "execution_count": 1,
      "outputs": []
    },
    {
      "cell_type": "code",
      "metadata": {
        "id": "MglTGXWrmCxB"
      },
      "source": [
        "import matplotlib.pyplot as plt\n",
        "import numpy as np\n",
        "from math import *\n",
        "from statistics import mean\n",
        "from google.colab import drive\n",
        "\n",
        "\n"
      ],
      "execution_count": 2,
      "outputs": []
    },
    {
      "cell_type": "code",
      "metadata": {
        "id": "ESnto4TYmCul"
      },
      "source": [
        "\n",
        "# Classes --------------------------------------------------------------------------------------------------------\n",
        "class Gaussian():\n",
        "    def __init__(self,centralWL,flux,PeakHeight,FWHM) -> None:\n",
        "        self.PeakHeight = PeakHeight\n",
        "        self.CentralWL = centralWL\n",
        "        self.FWHM = FWHM\n",
        "        self.Flux = flux\n",
        "\n",
        "    def getPeakHeight(self):\n",
        "        return(self.PeakHeight)\n",
        "    def getCentralWL(self):\n",
        "        return(self.CentralWL)\n",
        "    def getFWHM(self):\n",
        "        return(self.FWHM)\n",
        "    def getFWHM(self):\n",
        "        return(self.FWHM)\n",
        "    def getVelo(self):\n",
        "        \"\"\"Converts a gaussians central wave length to a velocity \"\"\"\n",
        "        lam = self.getCentralWL()\n",
        "        C = 2.99*10**(8) #speed of light\n",
        "        stWL = 5008.3 #standard emmission wave  length viewed at rest \n",
        "        velo = C * (lam - stWL)/ stWL\n",
        "        return(velo)\n",
        "\n",
        "class Line():\n",
        "    def __init__(self,LnNum, nLine,nGaussians,gaussians) -> None:\n",
        "        \"\"\"\n",
        "        LnNum -- line number\n",
        "        nLine\n",
        "        nGaussians \n",
        "        gaussians -- number of gaussians\"\"\"\n",
        "        self.LnNum = LnNum\n",
        "        self.NLine =  nLine\n",
        "        self.nGaussians = nGaussians\n",
        "        self.Gaussians = gaussians\n",
        "        self.GausCenters = []\n",
        "        for gaus in gaussians:\n",
        "            self.GausCenters.append(gaus.getCentralWL())\n",
        "        self.GausVelos = []\n",
        "        for gaus in gaussians[:nGaussians]:\n",
        "            self.GausVelos.append(gaus.getVelo())\n",
        "    def getLnNum(self):\n",
        "        return(self.LnNum)\n",
        "    def getNLine(self):\n",
        "        return(self.NLine)\n",
        "    def getNGaussians(self):\n",
        "        return(self.nGaussians)\n",
        "    def getGausCenters(self):\n",
        "        return(self.GausCenters)\n",
        "    def getGaussians(self):\n",
        "        return(self.Gaussians)\n",
        "    def getGausVelos(self):\n",
        "        return(self.GausVelos)\n",
        "\n",
        "    def getAveVelos(self):\n",
        "        mean(self.GausVelos)\n",
        "    "
      ],
      "execution_count": 3,
      "outputs": []
    },
    {
      "cell_type": "code",
      "metadata": {
        "id": "GhMF0xN6mCsP"
      },
      "source": [
        "#Parceing Gaussins--------------------------------------------------------------------------------------------------------\n",
        "def ParseLinesToDictinary(filename, gaussians = 8, header = 0):\n",
        "    \"\"\"Parses a data file into a list of dictionaries\n",
        "        file name -- string\n",
        "        gaussians -- number of gaussians in the line\n",
        "        header -- int -- number of lines of the header\n",
        "        \n",
        "        Returns dictinary which mappes a list of lines to their respective line number\"\"\"\n",
        "\n",
        "    f = open (filename,\"r\")\n",
        "    #ouptf = open(ouptFileName, \"w\") #for if we need to open a file and erase its contence\n",
        "\n",
        "    #Parse the header\n",
        "    for ln in range(header):\n",
        "        line = f.readline()\n",
        "\n",
        "\n",
        "    oupt = {}\n",
        "\n",
        "    # Parse the data\n",
        "    for line in f:\n",
        "        ln = line.split()\n",
        "        lineNum = float(ln[0])\n",
        "        nLine = float(ln[1])\n",
        "        nGassians = int(ln[2])\n",
        "        i = 3\n",
        "        Gaussians = []\n",
        "        for j in range(gaussians):\n",
        "            cent = float(ln[i])\n",
        "            flux = float(ln[i+1])\n",
        "            core = float(ln[i+2])\n",
        "            fwhm = float(ln[i+3])\n",
        "            gaussian = Gaussian(cent,flux,core,fwhm)\n",
        "            Gaussians.append(gaussian)\n",
        "            i += 4\n",
        "        ##################################\n",
        "        Ln = Line(lineNum, nLine, nGassians, Gaussians)\n",
        "        ##################################\n",
        "        oupt[lineNum] = Ln\n",
        "        \n",
        "    # close our file so it is not taking up memory\n",
        "    f.close()\n",
        "\n",
        "    #now we return our list of dictionaries \n",
        "    # we can acsess the line using its index number and the column using its name\n",
        "    return(oupt)\n",
        "\n",
        "  \n",
        "\n",
        "\n",
        "\n",
        "\n",
        "\n",
        "\n",
        "def ParseGaussiansToDictinary(filename, gaussians = 8, header = 0):\n",
        "    \"\"\"Parses a data file into a list of dictionaries\n",
        "        file name -- string\n",
        "        gaussians -- number of gaussians in the line\n",
        "        header -- int -- number of lines of the header\n",
        "        \n",
        "        Returns dictinary which mappes a list of gaussians to their respective line number\"\"\"\n",
        "\n",
        "    f = open (filename,\"r\")\n",
        "    #ouptf = open(ouptFileName, \"w\") #for if we need to open a file and erase its contence\n",
        "\n",
        "    #Parse the header\n",
        "    for ln in range(header):\n",
        "        line = f.readline()\n",
        "\n",
        "\n",
        "    oupt = {}\n",
        "    # Parse the data\n",
        "    for line in f:\n",
        "        ln = line.split()\n",
        "        lineNum = float(ln[0])\n",
        "        i = 3\n",
        "        Gaussians = []\n",
        "        for j in range(gaussians):\n",
        "            cent = float(ln[i])\n",
        "            flux = float(ln[i+1])\n",
        "            core = float(ln[i+2])\n",
        "            fwhm = float(ln[i+3])\n",
        "            gaussian = Gaussian(cent,flux,core,fwhm)\n",
        "            Gaussians.append(gaussian)\n",
        "            i += 4\n",
        "        oupt[lineNum] = Gaussians\n",
        "        \n",
        "    # close our file so it is not taking up memory\n",
        "    f.close()\n",
        "\n",
        "    #now we return our list of dictionaries \n",
        "    # we can acsess the line using its index number and the column using its name\n",
        "    return(oupt)"
      ],
      "execution_count": 4,
      "outputs": []
    },
    {
      "cell_type": "code",
      "metadata": {
        "id": "_a-h1WbxmCnV"
      },
      "source": [
        "#Plotting Gaussians--------------------------------------------------------------------------------------------------------\n",
        "def plotGaussian(gaussian):\n",
        "\n",
        "    # 100 linearly spaced numbers\n",
        "    \n",
        "\n",
        "    e = 2.718281828459045\n",
        "    Amplatude = gaussian.getPeakHeight()\n",
        "    Center = gaussian.getCentralWL()\n",
        "    Sigma = gaussian.getFWHM()/(2*sqrt(2*log(2)))\n",
        "\n",
        "\n",
        "    x = np.linspace(Center - (Sigma * 5),Center + (Sigma * 5),100)\n",
        "\n",
        "\n",
        "    y = Amplatude*e**(-((x-Center)**2 / (2 * Sigma**2 )))\n",
        "\n",
        "\n",
        "    # setting the axes at the centre\n",
        "    fig = plt.figure()\n",
        "    ax = fig.add_subplot(1, 1, 1)\n",
        "    ax.spines['left'].set_position('center')\n",
        "    ax.spines['bottom'].set_position('zero')\n",
        "    ax.spines['right'].set_color('none')\n",
        "    ax.spines['top'].set_color('none')\n",
        "    ax.xaxis.set_ticks_position('bottom')\n",
        "    ax.yaxis.set_ticks_position('left')\n",
        "\n",
        "\n",
        "    plt.axis([Center - (Sigma * 5),Center + (Sigma * 5), 0, Amplatude])\n",
        "    \n",
        "    # plot the function\n",
        "    plt.plot(x,y, 'r')\n",
        "\n",
        "    # show the plot\n",
        "    plt.show()\n",
        "    \n",
        "\n",
        "def plot_8_Gaussians_Sum(gaussians):\n",
        "  \"\"\"Takes a list of gaussians\"\"\"\n",
        "    # 100 linearly spaced numbers\n",
        "  e = 2.718281828459045\n",
        "  Amplatudes = []\n",
        "  Centers = []\n",
        "  Sigmas = []\n",
        "\n",
        "  AmplatudesR = []\n",
        "  CentersR = []\n",
        "  SigmasR = []\n",
        "\n",
        "  for i in range(8):\n",
        "\n",
        "    if (gaussians[i].getPeakHeight() != 0) and  (gaussians[i].getCentralWL() != 0) and (gaussians[i].getFWHM() != 0):\n",
        "      AmplatudesR.append(gaussians[i].getPeakHeight())\n",
        "      CentersR.append(gaussians[i].getCentralWL())\n",
        "      SigmasR.append(gaussians[i].getFWHM()/(2*sqrt(2*log(2))))\n",
        "\n",
        "\n",
        "    Amplatudes.append(gaussians[i].getPeakHeight())\n",
        "    Centers.append(gaussians[i].getCentralWL())\n",
        "    Sigmas.append(gaussians[i].getFWHM()/(2*sqrt(2*log(2))))\n",
        "\n",
        "    \n",
        "  x = np.linspace(mean(CentersR) - (max(SigmasR) * 10),mean(CentersR) + (max(SigmasR) * 10),100)\n",
        "\n",
        "\n",
        "  y = Amplatudes[0]*e**(-((x-Centers[0])**2 / (2 * Sigmas[0]**2 ))) + \\\n",
        "      Amplatudes[1]*e**(-((x-Centers[1])**2 / (2 * Sigmas[1]**2 ))) + \\\n",
        "      Amplatudes[2]*e**(-((x-Centers[2])**2 / (2 * Sigmas[2]**2 ))) + \\\n",
        "      Amplatudes[3]*e**(-((x-Centers[3])**2 / (2 * Sigmas[3]**2 ))) + \\\n",
        "      Amplatudes[4]*e**(-((x-Centers[4])**2 / (2 * Sigmas[4]**2 ))) + \\\n",
        "      Amplatudes[5]*e**(-((x-Centers[5])**2 / (2 * Sigmas[5]**2 ))) + \\\n",
        "      Amplatudes[6]*e**(-((x-Centers[6])**2 / (2 * Sigmas[6]**2 ))) + \\\n",
        "      Amplatudes[7]*e**(-((x-Centers[7])**2 / (2 * Sigmas[7]**2 ))) \n",
        "\n",
        "    # setting the axes at the centre\n",
        "  fig = plt.figure()\n",
        "  ax = fig.add_subplot(1, 1, 1)\n",
        "  ax.spines['left'].set_position('center')\n",
        "  ax.spines['bottom'].set_position('zero')\n",
        "  ax.spines['right'].set_color('none')\n",
        "  ax.spines['top'].set_color('none')\n",
        "  ax.xaxis.set_ticks_position('bottom')\n",
        "  ax.yaxis.set_ticks_position('left')\n",
        "\n",
        "    \n",
        "  xmin = mean(CentersR) - (max(SigmasR) * 10)\n",
        "  xmax = mean(CentersR) + (max(SigmasR) * 10)\n",
        "  maxAmp = sum(AmplatudesR) \n",
        "  plt.axis([xmin,xmax,0,maxAmp])\n",
        "    \n",
        "    \n",
        "    # plot the function\n",
        "  plt.plot(x,y, 'r')\n",
        "    \n",
        "    \n",
        "    # show the plot\n",
        "  plt.show()\n",
        "    "
      ],
      "execution_count": 8,
      "outputs": []
    },
    {
      "cell_type": "code",
      "metadata": {
        "id": "pPQ-hnsJmCpr"
      },
      "source": [
        "#Plotting Velo--------------------------------------------------------------------------------------------------------\n",
        "def PlotVeloVsLineNum_Gaus_Dict_0(GausDict):\n",
        "    \"\"\"Plots the velocity vs line number from a dictionary of gaussian lists\"\"\"\n",
        "    lnNums = []\n",
        "    velos = []\n",
        "    for lnNum in GausDict.keys():\n",
        "        velo = GausDict[lnNum][0].getVelo()\n",
        "        lnNums.append(lnNum)\n",
        "        velos.append(velo)\n",
        "\n",
        "    #add names for the graph and axes\n",
        "    plt.suptitle('Line num vs Velo',fontsize=18)\n",
        "    plt.xlabel('Velocity')\n",
        "    plt.ylabel('Line Num')\n",
        "\n",
        "    #and plot our series\n",
        "    plt.plot(velos,lnNums,'ro-',label='1st series')\n",
        "\n",
        "    # add a key and set the values for your axis (plt.axis[x_min, x_max, y_min, y_max])\n",
        "    plt.legend(loc='lower right', shadow=True)\n",
        "    plt.axis([min(velos), max(velos), min(lnNums), max(lnNums)])\n",
        "    plt.show()\n",
        "\n",
        "\n",
        "\n",
        "def PlotVeloVsLineNum_Line_Dict(GausDict):\n",
        "    \"\"\"Plots the velocity vs line number from a dictionary of Line objects\"\"\"\n",
        "    lnNums = []\n",
        "    velos = []\n",
        "    for lnNum in GausDict.keys():\n",
        "      if GausDict[lnNum].getGausVelos():\n",
        "        velo = mean(GausDict[lnNum].getGausVelos())\n",
        "        lnNums.append(lnNum)\n",
        "        velos.append(velo)\n",
        "\n",
        "    #lets start by making up some data\n",
        "\n",
        "\n",
        "    #add names for the graph and axes\n",
        "    plt.suptitle('Line number Vs Velo',fontsize=18)\n",
        "    plt.xlabel('Velocity')\n",
        "    plt.ylabel('Line Num')\n",
        "\n",
        "    #and plot our series\n",
        "    plt.plot(velos,lnNums,'ro',label='1st series')\n",
        "\n",
        "    # add a key and set the values for your axis (plt.axis[x_min, x_max, y_min, y_max])\n",
        "    plt.legend(loc='lower right', shadow=True)\n",
        "    plt.axis([min(velos), max(velos), min(lnNums), max(lnNums)])\n",
        "    plt.show()"
      ],
      "execution_count": 9,
      "outputs": []
    },
    {
      "cell_type": "code",
      "metadata": {
        "colab": {
          "base_uri": "https://localhost:8080/"
        },
        "id": "GZgtPm5XmCk4",
        "outputId": "a5b43ae6-b0ac-4fa3-ad94-ddfd1f943f94"
      },
      "source": [
        "drive.mount('/content/drive') #/MyDrive/Research/datasets\n",
        "Gaussians = ParseGaussiansToDictinary('/content/drive/MyDrive/Research/datasets/n4151s1.txt');\n",
        "Lines = ParseLinesToDictinary('/content/drive/MyDrive/Research/datasets/n4151s1.txt');"
      ],
      "execution_count": 10,
      "outputs": [
        {
          "output_type": "stream",
          "name": "stdout",
          "text": [
            "Mounted at /content/drive\n"
          ]
        }
      ]
    },
    {
      "cell_type": "code",
      "metadata": {
        "colab": {
          "base_uri": "https://localhost:8080/",
          "height": 276
        },
        "id": "A9SXIUAAmCib",
        "outputId": "4cc2baa5-17c7-450e-cb90-bfbc6406c7b2"
      },
      "source": [
        "plotGaussian(Gaussians[601][0])"
      ],
      "execution_count": 11,
      "outputs": [
        {
          "output_type": "display_data",
          "data": {
            "image/png": "[encoded data removed]",
            "text/plain": [
              "<Figure size 432x288 with 1 Axes>"
            ]
          },
          "metadata": {
            "needs_background": "light"
          }
        }
      ]
    },
    {
      "cell_type": "code",
      "metadata": {
        "colab": {
          "base_uri": "https://localhost:8080/",
          "height": 293
        },
        "id": "CkrJpfSZmCgd",
        "outputId": "3676839f-7805-467d-c60d-5d9f4a297442"
      },
      "source": [
        "plot_8_Gaussians_Sum(Gaussians[605])"
      ],
      "execution_count": 12,
      "outputs": [
        {
          "output_type": "stream",
          "name": "stderr",
          "text": [
            "/usr/local/lib/python3.7/dist-packages/ipykernel_launcher.py:67: RuntimeWarning: divide by zero encountered in true_divide\n"
          ]
        },
        {
          "output_type": "display_data",
          "data": {
            "image/png": "[encoded data removed]",
            "text/plain": [
              "<Figure size 432x288 with 1 Axes>"
            ]
          },
          "metadata": {
            "needs_background": "light"
          }
        }
      ]
    },
    {
      "cell_type": "code",
      "metadata": {
        "colab": {
          "base_uri": "https://localhost:8080/",
          "height": 308
        },
        "id": "iyfE4S8gmCd5",
        "outputId": "1458fda7-bd76-44d5-bda9-cc4a5966bda9"
      },
      "source": [
        "PlotVeloVsLineNum_Line_Dict(Lines)"
      ],
      "execution_count": 13,
      "outputs": [
        {
          "output_type": "display_data",
          "data": {
            "image/png": "[encoded data removed]",
            "text/plain": [
              "<Figure size 432x288 with 1 Axes>"
            ]
          },
          "metadata": {
            "needs_background": "light"
          }
        }
      ]
    }
  ]
}