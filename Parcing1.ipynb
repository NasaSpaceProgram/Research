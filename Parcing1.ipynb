{
  "nbformat": 4,
  "nbformat_minor": 0,
  "metadata": {
    "colab": {
      "name": "Untitled1.ipynb",
      "provenance": [],
      "authorship_tag": "ABX9TyPzO/vlJmKKFN5PhpDu+ULm",
      "include_colab_link": true
    },
    "kernelspec": {
      "name": "python3",
      "display_name": "Python 3"
    },
    "language_info": {
      "name": "python"
    }
  },
  "cells": [
    {
      "cell_type": "markdown",
      "metadata": {
        "id": "view-in-github",
        "colab_type": "text"
      },
      "source": [
        "<a href=\"https://colab.research.google.com/github/NasaSpaceProgram/Research/blob/main/Parcing1.ipynb\" target=\"_parent\"><img src=\"https://colab.research.google.com/assets/colab-badge.svg\" alt=\"Open In Colab\"/></a>"
      ]
    },
    {
      "cell_type": "code",
      "metadata": {
        "id": "VH9Tzfd-l97n"
      },
      "source": [
        "\n",
        "#line             I            %11d  \"\" line \n",
        "#nline            I            %11d  \"\" \n",
        "#ngauss           I            %11d  \"\" number of gaussians \n",
        "# 8 Gaussians - for each gaussian\n",
        "#cent            R          %15.7g  \"\" center wave lengh\n",
        "#flux            R          %15.7g  \"\" total intigral under the gaussian\n",
        "#core            R          %15.7g  \"\" peek hight - Ampatude\n",
        "#fwhm            R          %15.7g  \"\" full width at half max\n",
        "\n",
        "\n",
        "# plot velocity vs line number\n",
        "# C (lambda - 5008.3)/5008.3 = velocity "
      ],
      "execution_count": 1,
      "outputs": []
    },
    {
      "cell_type": "code",
      "metadata": {
        "id": "MglTGXWrmCxB"
      },
      "source": [
        "import matplotlib.pyplot as plt\n",
        "import numpy as np\n",
        "from math import *\n",
        "from statistics import mean\n",
        "from google.colab import drive\n",
        "\n",
        "\n"
      ],
      "execution_count": 8,
      "outputs": []
    },
    {
      "cell_type": "code",
      "metadata": {
        "id": "ESnto4TYmCul"
      },
      "source": [
        "\n",
        "# Classes --------------------------------------------------------------------------------------------------------\n",
        "class Gaussian():\n",
        "    def __init__(self,centralWL,flux,PeakHeight,FWHM) -> None:\n",
        "        self.PeakHeight = PeakHeight\n",
        "        self.CentralWL = centralWL\n",
        "        self.FWHM = FWHM\n",
        "        self.Flux = flux\n",
        "\n",
        "    def getPeakHeight(self):\n",
        "        return(self.PeakHeight)\n",
        "    def getCentralWL(self):\n",
        "        return(self.CentralWL)\n",
        "    def getFWHM(self):\n",
        "        return(self.FWHM)\n",
        "    def getFWHM(self):\n",
        "        return(self.FWHM)\n",
        "    def getVelo(self):\n",
        "        \"\"\"Converts a gaussians central wave length to a velocity \"\"\"\n",
        "        lam = self.getCentralWL()\n",
        "        C = 2.99*10^(8) #speed of light\n",
        "        stWL = 5008.3 #standard emmission wave  length viewed at rest \n",
        "        velo = C * (lam - stWL)/ stWL\n",
        "        return(velo)\n",
        "\n",
        "class Line():\n",
        "    def __init__(self,LnNum, nLine,nGaussians,gaussians) -> None:\n",
        "        \"\"\"\n",
        "        LnNum -- line number\n",
        "        nLine\n",
        "        nGaussians \n",
        "        gaussians -- number of gaussians\"\"\"\n",
        "        self.LnNum = LnNum\n",
        "        self.NLine =  nLine\n",
        "        self.nGaussians = nGaussians\n",
        "        self.Gaussians = gaussians\n",
        "\n",
        "\n",
        "        self.GausCenters = []\n",
        "        for gaus in gaussians:\n",
        "            self.GausCenters.append(gaus.getCentralWL())\n",
        "\n",
        "        self.GausVelos = []\n",
        "        for gaus in gaussians:\n",
        "            self.GausCenters.append(gaus.getVelo())\n",
        "\n",
        "\n",
        "    def getLnNum(self):\n",
        "        return(self.LnNum)\n",
        "    def getNLine(self):\n",
        "        return(self.NLine)\n",
        "    def getNGaussians(self):\n",
        "        return(self.nGaussians)\n",
        "    def getGaussians(self):\n",
        "        return(self.Gaussians)\n",
        "    def getAveVelos(self):\n",
        "        mean(self.GausVelos)"
      ],
      "execution_count": 7,
      "outputs": []
    },
    {
      "cell_type": "code",
      "metadata": {
        "id": "GhMF0xN6mCsP"
      },
      "source": [
        "#Parceing Gaussins--------------------------------------------------------------------------------------------------------\n",
        "def ParseLineToDictinary(filename, gaussians = 8, header = 0):\n",
        "    \"\"\"Parses a data file into a list of dictionaries\n",
        "        file name -- string\n",
        "        gaussians -- number of gaussians in the line\n",
        "        header -- int -- number of lines of the header\n",
        "        \n",
        "        Returns dictinary which mappes a list of lines to their respective line number\"\"\"\n",
        "\n",
        "    f = open (filename,\"r\")\n",
        "    #ouptf = open(ouptFileName, \"w\") #for if we need to open a file and erase its contence\n",
        "\n",
        "    #Parse the header\n",
        "    for ln in range(header):\n",
        "        line = f.readline()\n",
        "\n",
        "\n",
        "    oupt = {}\n",
        "\n",
        "    # Parse the data\n",
        "    for line in f:\n",
        "        ln = line.split()\n",
        "        lineNum = ln[0]\n",
        "        nLine = ln[1]\n",
        "        nGassians = ln[2]\n",
        "        i = 3\n",
        "        Gaussians = []\n",
        "        for j in range(4*(gaussians-1)):\n",
        "            cent = ln[i]\n",
        "            flux = ln[i+1]\n",
        "            core = ln[i+2]\n",
        "            fwhm = ln[i+3]\n",
        "            gaussian = Gaussian(cent,flux,core,fwhm)\n",
        "            Gaussians.append(gaussian)\n",
        "            i += 4\n",
        "        ##################################\n",
        "        Ln = Line(lineNum, nLine, nGassians)\n",
        "        ##################################\n",
        "        oupt[lineNum] = Ln\n",
        "        \n",
        "    # close our file so it is not taking up memory\n",
        "    f.close()\n",
        "\n",
        "    #now we return our list of dictionaries \n",
        "    # we can acsess the line using its index number and the column using its name\n",
        "    return(oupt)\n",
        "\n",
        "  \n",
        "\n",
        "\n",
        "\n",
        "\n",
        "\n",
        "\n",
        "def ParseGaussiansToDictinary(filename, gaussians = 8, header = 0):\n",
        "    \"\"\"Parses a data file into a list of dictionaries\n",
        "        file name -- string\n",
        "        gaussians -- number of gaussians in the line\n",
        "        header -- int -- number of lines of the header\n",
        "        \n",
        "        Returns dictinary which mappes a list of gaussians to their respective line number\"\"\"\n",
        "\n",
        "    f = open (filename,\"r\")\n",
        "    #ouptf = open(ouptFileName, \"w\") #for if we need to open a file and erase its contence\n",
        "\n",
        "    #Parse the header\n",
        "    for ln in range(header):\n",
        "        line = f.readline()\n",
        "\n",
        "\n",
        "    oupt = {}\n",
        "    # Parse the data\n",
        "    for line in f:\n",
        "        ln = line.split()\n",
        "        lineNum = ln[0]\n",
        "        i = 3\n",
        "        Gaussians = []\n",
        "        for j in range(4*(gaussians-1)):\n",
        "            cent = ln[i]\n",
        "            flux = ln[i+1]\n",
        "            core = ln[i+2]\n",
        "            fwhm = ln[i+3]\n",
        "            gaussian = Gaussian(cent,flux,core,fwhm)\n",
        "            Gaussians.append(gaussian)\n",
        "            i += 4\n",
        "        oupt[lineNum] = Gaussians\n",
        "        \n",
        "    # close our file so it is not taking up memory\n",
        "    f.close()\n",
        "\n",
        "    #now we return our list of dictionaries \n",
        "    # we can acsess the line using its index number and the column using its name\n",
        "    return(oupt)"
      ],
      "execution_count": 15,
      "outputs": []
    },
    {
      "cell_type": "code",
      "metadata": {
        "id": "pPQ-hnsJmCpr"
      },
      "source": [
        "#Plotting Velo--------------------------------------------------------------------------------------------------------\n",
        "def PlotVeloVsLineNum_Gaus_Dict_0(GausDict):\n",
        "    \"\"\"Plots the velocity vs line number from a dictionary of gaussian lists\"\"\"\n",
        "    lnNums = []\n",
        "    velos = []\n",
        "    for lnNum in GausDict.keys():\n",
        "        velo = GausDict[lnNum][0].getVelo()\n",
        "        lnNums.append(lnNum)\n",
        "        velos.append(velo)\n",
        "\n",
        "    #add names for the graph and axes\n",
        "    plt.suptitle('my rockin plot',fontsize=18)\n",
        "    plt.xlabel('Velocity')\n",
        "    plt.ylabel('Line Num')\n",
        "\n",
        "    #and plot our series\n",
        "    plt.plot(velos,lnNums,'ro-',label='1st series')\n",
        "\n",
        "    # add a key and set the values for your axis (plt.axis[x_min, x_max, y_min, y_max])\n",
        "    plt.legend(loc='lower right', shadow=True)\n",
        "    plt.axis([min(velos), max(velos), min(lnNums), max(lnNums)])\n",
        "    plt.show()\n",
        "\n",
        "\n",
        "\n",
        "def PlotVeloVsLineNum_Line_Dict(GausDict):\n",
        "    \"\"\"Plots the velocity vs line number from a dictionary of Line objects\"\"\"\n",
        "    lnNums = []\n",
        "    velos = []\n",
        "    for lnNum in GausDict.keys():\n",
        "        velo = GausDict[lnNum].getAveVelos()\n",
        "        lnNums.append(lnNum)\n",
        "        velos.append(velo)\n",
        "\n",
        "    #lets start by making up some data\n",
        "\n",
        "\n",
        "    #add names for the graph and axes\n",
        "    plt.suptitle('my rockin plot',fontsize=18)\n",
        "    plt.xlabel('Velocity')\n",
        "    plt.ylabel('Line Num')\n",
        "\n",
        "    #and plot our series\n",
        "    plt.plot(velos,lnNums,'ro-',label='1st series')\n",
        "\n",
        "    # add a key and set the values for your axis (plt.axis[x_min, x_max, y_min, y_max])\n",
        "    plt.legend(loc='lower right', shadow=True)\n",
        "    plt.axis([min(velos), max(velos), min(lnNums), max(lnNums)])\n",
        "    plt.show()"
      ],
      "execution_count": 10,
      "outputs": []
    },
    {
      "cell_type": "code",
      "metadata": {
        "id": "_a-h1WbxmCnV"
      },
      "source": [
        "#Plotting Gaussians--------------------------------------------------------------------------------------------------------\n",
        "def plotGaussian(gaussian):\n",
        "\n",
        "    # 100 linearly spaced numbers\n",
        "    \n",
        "\n",
        "    e = 2.718281828459045\n",
        "    Amplatude = gaussian.getPeakHeight()\n",
        "    Center = gaussian.getCentralWL()\n",
        "    Sigma = gaussian.getFWHM()/(2*sqrt(2*log(2)))\n",
        "\n",
        "\n",
        "    x = np.linspace(Center - (Sigma * 5),Center + (Sigma * 5),100)\n",
        "\n",
        "\n",
        "    y = Amplatude*e**(-((x-Center)**2 / (2 * Sigma**2 )))\n",
        "\n",
        "\n",
        "    # setting the axes at the centre\n",
        "    fig = plt.figure()\n",
        "    ax = fig.add_subplot(1, 1, 1)\n",
        "    ax.spines['left'].set_position('center')\n",
        "    ax.spines['bottom'].set_position('zero')\n",
        "    ax.spines['right'].set_color('none')\n",
        "    ax.spines['top'].set_color('none')\n",
        "    ax.xaxis.set_ticks_position('bottom')\n",
        "    ax.yaxis.set_ticks_position('left')\n",
        "\n",
        "\n",
        "    plt.axis([Center - (Sigma * 5),Center + (Sigma * 5), 0, Amplatude])\n",
        "    \n",
        "    # plot the function\n",
        "    plt.plot(x,y, 'r')\n",
        "\n",
        "    # show the plot\n",
        "    plt.show()\n",
        "    \n",
        "\n",
        "def plot_8_Gaussians_Sum(gaussians):\n",
        "\n",
        "    # 100 linearly spaced numbers\n",
        "    \n",
        "\n",
        "    e = 2.718281828459045\n",
        "    Amplatudes = []\n",
        "    Centers = []\n",
        "    Sigmas = []\n",
        "\n",
        "    for i in range(8):\n",
        "        Amplatudes.append(gaussians[i].getPeakHeight())\n",
        "        Centers.append(gaussians[i].getPeakHeight())\n",
        "        Sigmas.append(gaussians[i].getPeakHeight())\n",
        "\n",
        "\n",
        "    #Ampatude = gaussian.getPeakHeight()\n",
        "    #Center = gaussian.getCentralWL()\n",
        "    #Sigma = gaussian.getFWHM()/(2*sqrt(2*log(2)))\n",
        "\n",
        "\n",
        "    x = np.linspace(mean(Centers) - (max(Sigmas) * 10),mean(Centers) + (max(Sigmas) * 10),100)\n",
        "\n",
        "\n",
        "    y = Amplatudes[0]*e**(-((x-Centers[0])**2 / (2 * Sigmas[0]**2 ))) + \\\n",
        "        Amplatudes[1]*e**(-((x-Centers[1])**2 / (2 * Sigmas[1]**2 ))) + \\\n",
        "        Amplatudes[2]*e**(-((x-Centers[2])**2 / (2 * Sigmas[2]**2 ))) + \\\n",
        "        Amplatudes[3]*e**(-((x-Centers[3])**2 / (2 * Sigmas[3]**2 ))) + \\\n",
        "        Amplatudes[4]*e**(-((x-Centers[4])**2 / (2 * Sigmas[4]**2 ))) + \\\n",
        "        Amplatudes[5]*e**(-((x-Centers[5])**2 / (2 * Sigmas[5]**2 ))) + \\\n",
        "        Amplatudes[6]*e**(-((x-Centers[6])**2 / (2 * Sigmas[6]**2 ))) + \\\n",
        "        Amplatudes[7]*e**(-((x-Centers[7])**2 / (2 * Sigmas[7]**2 ))) \n",
        "\n",
        "    # setting the axes at the centre\n",
        "    fig = plt.figure()\n",
        "    ax = fig.add_subplot(1, 1, 1)\n",
        "    ax.spines['left'].set_position('center')\n",
        "    ax.spines['bottom'].set_position('zero')\n",
        "    ax.spines['right'].set_color('none')\n",
        "    ax.spines['top'].set_color('none')\n",
        "    ax.xaxis.set_ticks_position('bottom')\n",
        "    ax.yaxis.set_ticks_position('left')\n",
        "\n",
        "\n",
        "    plt.axis(mean(Centers) - (max(Sigmas) * 10),mean(Centers) + (max(Sigmas) * 10), 0, max(Amplatudes))\n",
        "    \n",
        "    # plot the function\n",
        "    plt.plot(x,y, 'r')\n",
        "\n",
        "    # show the plot\n",
        "    plt.show()"
      ],
      "execution_count": 11,
      "outputs": []
    },
    {
      "cell_type": "code",
      "metadata": {
        "colab": {
          "base_uri": "https://localhost:8080/",
          "height": 363
        },
        "id": "GZgtPm5XmCk4",
        "outputId": "7e1181f7-24cc-4a65-b9e1-7c2e36ca349d"
      },
      "source": [
        "drive.mount('/content/drive') #/MyDrive/Research/datasets\n",
        "ParseLineToDictinary('/content/drive/MyDrive/Research/datasets/n4151s1.txt')"
      ],
      "execution_count": 16,
      "outputs": [
        {
          "output_type": "stream",
          "name": "stdout",
          "text": [
            "Drive already mounted at /content/drive; to attempt to forcibly remount, call drive.mount(\"/content/drive\", force_remount=True).\n",
            "['601', '1', '2', '5023.49', '2.298000E-11', '1.969000E-12', '10.96', '5024.13', '3.621000E-11', '9.518000E-12', '3.574', '0.', '0.', '0.', '0.', '0.', '0.', '0.', '0.', '0.', '0.', '0.', '0.', '0.', '0.', '0.', '0.', '0.', '0.', '0.', '0.', '0.', '0.', '0.', '0.']\n"
          ]
        },
        {
          "output_type": "error",
          "ename": "IndexError",
          "evalue": "ignored",
          "traceback": [
            "\u001b[0;31m---------------------------------------------------------------------------\u001b[0m",
            "\u001b[0;31mIndexError\u001b[0m                                Traceback (most recent call last)",
            "\u001b[0;32m<ipython-input-16-d1437975a157>\u001b[0m in \u001b[0;36m<module>\u001b[0;34m()\u001b[0m\n\u001b[1;32m      1\u001b[0m \u001b[0mdrive\u001b[0m\u001b[0;34m.\u001b[0m\u001b[0mmount\u001b[0m\u001b[0;34m(\u001b[0m\u001b[0;34m'/content/drive'\u001b[0m\u001b[0;34m)\u001b[0m \u001b[0;31m#/MyDrive/Research/datasets\u001b[0m\u001b[0;34m\u001b[0m\u001b[0;34m\u001b[0m\u001b[0m\n\u001b[0;32m----> 2\u001b[0;31m \u001b[0mParseLineToDictinary\u001b[0m\u001b[0;34m(\u001b[0m\u001b[0;34m'/content/drive/MyDrive/Research/datasets/n4151s1.txt'\u001b[0m\u001b[0;34m)\u001b[0m\u001b[0;34m\u001b[0m\u001b[0;34m\u001b[0m\u001b[0m\n\u001b[0m",
            "\u001b[0;32m<ipython-input-15-4004593a91f6>\u001b[0m in \u001b[0;36mParseLineToDictinary\u001b[0;34m(filename, gaussians, header)\u001b[0m\n\u001b[1;32m     28\u001b[0m         \u001b[0mGaussians\u001b[0m \u001b[0;34m=\u001b[0m \u001b[0;34m[\u001b[0m\u001b[0;34m]\u001b[0m\u001b[0;34m\u001b[0m\u001b[0;34m\u001b[0m\u001b[0m\n\u001b[1;32m     29\u001b[0m         \u001b[0;32mfor\u001b[0m \u001b[0mj\u001b[0m \u001b[0;32min\u001b[0m \u001b[0mrange\u001b[0m\u001b[0;34m(\u001b[0m\u001b[0;36m4\u001b[0m\u001b[0;34m*\u001b[0m\u001b[0;34m(\u001b[0m\u001b[0mgaussians\u001b[0m\u001b[0;34m-\u001b[0m\u001b[0;36m1\u001b[0m\u001b[0;34m)\u001b[0m\u001b[0;34m)\u001b[0m\u001b[0;34m:\u001b[0m\u001b[0;34m\u001b[0m\u001b[0;34m\u001b[0m\u001b[0m\n\u001b[0;32m---> 30\u001b[0;31m             \u001b[0mcent\u001b[0m \u001b[0;34m=\u001b[0m \u001b[0mln\u001b[0m\u001b[0;34m[\u001b[0m\u001b[0mi\u001b[0m\u001b[0;34m]\u001b[0m\u001b[0;34m\u001b[0m\u001b[0;34m\u001b[0m\u001b[0m\n\u001b[0m\u001b[1;32m     31\u001b[0m             \u001b[0mflux\u001b[0m \u001b[0;34m=\u001b[0m \u001b[0mln\u001b[0m\u001b[0;34m[\u001b[0m\u001b[0mi\u001b[0m\u001b[0;34m+\u001b[0m\u001b[0;36m1\u001b[0m\u001b[0;34m]\u001b[0m\u001b[0;34m\u001b[0m\u001b[0;34m\u001b[0m\u001b[0m\n\u001b[1;32m     32\u001b[0m             \u001b[0mcore\u001b[0m \u001b[0;34m=\u001b[0m \u001b[0mln\u001b[0m\u001b[0;34m[\u001b[0m\u001b[0mi\u001b[0m\u001b[0;34m+\u001b[0m\u001b[0;36m2\u001b[0m\u001b[0;34m]\u001b[0m\u001b[0;34m\u001b[0m\u001b[0;34m\u001b[0m\u001b[0m\n",
            "\u001b[0;31mIndexError\u001b[0m: list index out of range"
          ]
        }
      ]
    },
    {
      "cell_type": "code",
      "metadata": {
        "id": "A9SXIUAAmCib"
      },
      "source": [
        ""
      ],
      "execution_count": null,
      "outputs": []
    },
    {
      "cell_type": "code",
      "metadata": {
        "id": "CkrJpfSZmCgd"
      },
      "source": [
        ""
      ],
      "execution_count": null,
      "outputs": []
    },
    {
      "cell_type": "code",
      "metadata": {
        "id": "iyfE4S8gmCd5"
      },
      "source": [
        ""
      ],
      "execution_count": null,
      "outputs": []
    },
    {
      "cell_type": "code",
      "metadata": {
        "id": "jU7eWYCumCbT"
      },
      "source": [
        ""
      ],
      "execution_count": null,
      "outputs": []
    },
    {
      "cell_type": "code",
      "metadata": {
        "id": "IsdbrJhUmCYq"
      },
      "source": [
        ""
      ],
      "execution_count": null,
      "outputs": []
    },
    {
      "cell_type": "code",
      "metadata": {
        "id": "zZZ89bZZmCMC"
      },
      "source": [
        ""
      ],
      "execution_count": null,
      "outputs": []
    }
  ]
}